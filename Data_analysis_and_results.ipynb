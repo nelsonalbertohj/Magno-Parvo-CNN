{
  "cells": [
    {
      "cell_type": "markdown",
      "metadata": {
        "id": "view-in-github",
        "colab_type": "text"
      },
      "source": [
        "<a href=\"https://colab.research.google.com/github/nelsonalbertohj/Magno-Parvo-CNN/blob/main/Data_analysis_and_results.ipynb\" target=\"_parent\"><img src=\"https://colab.research.google.com/assets/colab-badge.svg\" alt=\"Open In Colab\"/></a>"
      ]
    },
    {
      "cell_type": "markdown",
      "metadata": {
        "collapsed": true,
        "pycharm": {
          "name": "#%% md\n"
        },
        "id": "4JoxFW9Agorn"
      },
      "source": [
        "### Data Analysis processes"
      ]
    },
    {
      "cell_type": "code",
      "execution_count": 2,
      "outputs": [
        {
          "output_type": "stream",
          "name": "stdout",
          "text": [
            "Requirement already satisfied: tensorflow_addons in /usr/local/lib/python3.7/dist-packages (0.16.1)\n",
            "Requirement already satisfied: typeguard>=2.7 in /usr/local/lib/python3.7/dist-packages (from tensorflow_addons) (2.7.1)\n"
          ]
        }
      ],
      "source": [
        "!pip install tensorflow_addons"
      ],
      "metadata": {
        "pycharm": {
          "name": "#%%\n"
        },
        "id": "h-z7W-tXgors",
        "outputId": "69818352-604a-4289-ed70-fa3c9d3fb43b",
        "colab": {
          "base_uri": "https://localhost:8080/"
        }
      }
    },
    {
      "cell_type": "code",
      "source": [
        "import tensorflow as tf\n",
        "import tensorflow_datasets as tfds\n",
        "import os\n",
        "import numpy as np\n",
        "import pathlib\n",
        "import matplotlib.pyplot as plt\n",
        "import pandas as pd\n",
        "\n",
        "import keras\n",
        "import time\n",
        "from keras.models import Sequential\n",
        "from keras.layers import Dense, Conv2D, MaxPool2D , Flatten, Average\n",
        "from keras.preprocessing.image import ImageDataGenerator\n",
        "import tensorflow_addons as tfa\n",
        "print(\"Tensorflow version: \",tf.__version__)"
      ],
      "metadata": {
        "id": "xYEZcdtqhOd7",
        "outputId": "6db2a306-4406-4a46-f0c7-ea6daa4d2414",
        "colab": {
          "base_uri": "https://localhost:8080/"
        }
      },
      "execution_count": 3,
      "outputs": [
        {
          "output_type": "stream",
          "name": "stdout",
          "text": [
            "Tensorflow version:  2.8.0\n"
          ]
        }
      ]
    },
    {
      "cell_type": "code",
      "source": [
        "from google.colab import drive\n",
        "drive.mount('/content/drive')"
      ],
      "metadata": {
        "id": "kHlkSpNkhQRT",
        "outputId": "30d11aae-8df7-485c-e47e-0648ee62ab1c",
        "colab": {
          "base_uri": "https://localhost:8080/"
        }
      },
      "execution_count": 4,
      "outputs": [
        {
          "output_type": "stream",
          "name": "stdout",
          "text": [
            "Mounted at /content/drive\n"
          ]
        }
      ]
    },
    {
      "cell_type": "code",
      "source": [
        "loc = \"/content/drive/MyDrive/Vision Dataset/Imagenet-10-1500-splits/test\"\n",
        "data_dir = pathlib.Path(loc)\n",
        "\n",
        "batch_size = 32\n",
        "img_height = 224\n",
        "img_width = 224\n",
        "\n",
        "#Testing set\n",
        "test_ds = tf.keras.utils.image_dataset_from_directory(\n",
        "  data_dir,\n",
        "  seed=123,\n",
        "  label_mode = 'categorical',\n",
        "  image_size=(img_height, img_width),\n",
        "  batch_size=batch_size)"
      ],
      "metadata": {
        "id": "lhwib9vuhR4b",
        "outputId": "cf66a108-13cc-4b35-9ace-968d92b3eb73",
        "colab": {
          "base_uri": "https://localhost:8080/"
        }
      },
      "execution_count": 5,
      "outputs": [
        {
          "output_type": "stream",
          "name": "stdout",
          "text": [
            "Found 1297 files belonging to 10 classes.\n"
          ]
        }
      ]
    },
    {
      "cell_type": "code",
      "source": [
        "def img_transforms(data,label):\n",
        "    normalize_img = tf.keras.layers.Rescaling(1./255)\n",
        "    color_norm = normalize_img(data)\n",
        "    gray_img = tf.image.rgb_to_grayscale(data)\n",
        "    gray_norm_img = normalize_img(gray_img)\n",
        "    tfa.image.gaussian_filter2d(gray_norm_img,filter_shape=(10,10),sigma=5.0)\n",
        "    concat_img = tf.concat([color_norm, gray_norm_img],axis=-1)\n",
        "    return concat_img,label\n",
        "\n",
        "AUTOTUNE = tf.data.AUTOTUNE\n",
        "test_ds_preprocessed = test_ds.map(img_transforms)\n",
        "\n",
        "CASHE_Test = \"/content/drive/MyDrive/Vision Dataset/Imagenet-10-1500-splits/CASHE_Test_Blur_10_1500\"\n",
        "test_ds_preprocessed = test_ds_preprocessed.cache(CASHE_Test).prefetch(buffer_size=AUTOTUNE)"
      ],
      "metadata": {
        "id": "nSpGGhvBh7JJ"
      },
      "execution_count": 6,
      "outputs": []
    },
    {
      "cell_type": "code",
      "source": [
        "# # Used to create CASHE in local disk by loading all images\n",
        "# idx = 0\n",
        "# start_time = time.time()\n",
        "# for t in test_ds_preprocessed:\n",
        "#   print(\"time to get object: \", time.time()-start_time)\n",
        "#   idx += 1\n",
        "#   start_time = time.time()"
      ],
      "metadata": {
        "id": "8U7tm8hnk2Vz"
      },
      "execution_count": null,
      "outputs": []
    },
    {
      "cell_type": "code",
      "source": [
        "dual_stream_model = tf.keras.models.load_model(\"/content/drive/MyDrive/Vision Dataset/Models/Early_Testing_Models/Dualstream_with_ResNet_1000_Samples_Deeper_10Classes\")\n",
        "single_model = tf.keras.models.load_model(\"/content/drive/MyDrive/Vision Dataset/Models/Early_Testing_Models/Single_ResNet_1000_Samples_Deeper\")"
      ],
      "metadata": {
        "id": "_pLcaBNxi_W3"
      },
      "execution_count": 9,
      "outputs": []
    },
    {
      "cell_type": "code",
      "source": [
        "dual_test_loss, dual_test_accuracy = dual_stream_model.evaluate(test_ds_preprocessed)\n",
        "\n",
        "single_test_loss, signle_test_accuracy = single_model.evaluate(test_ds_preprocessed)"
      ],
      "metadata": {
        "id": "_6TbdvPKi2ql",
        "outputId": "4730b0bd-319f-4a2a-d6c3-472e6ff13b4e",
        "colab": {
          "base_uri": "https://localhost:8080/"
        }
      },
      "execution_count": 10,
      "outputs": [
        {
          "output_type": "stream",
          "name": "stdout",
          "text": [
            "41/41 [==============================] - 31s 430ms/step - loss: 1.4610 - accuracy: 0.6168\n",
            "41/41 [==============================] - 10s 214ms/step - loss: 1.0598 - accuracy: 0.7032\n"
          ]
        }
      ]
    },
    {
      "cell_type": "code",
      "source": [
        "dual_pred_outputs = dual_stream_model.predict(test_ds_preprocessed)\n",
        "dual_pred_outputs = np.argmax(dual_pred_outputs,axis=1)\n",
        "\n",
        "single_pred_outputs = single_model.predict(test_ds_preprocessed)\n",
        "single_pred_outputs = np.argmax(single_pred_outputs,axis=1)\n",
        "\n",
        "true_outputs = np.concatenate([labels for _,labels in test_ds_preprocessed])\n",
        "true_outputs = np.argmax(true_outputs,axis=1)"
      ],
      "metadata": {
        "id": "ag8dddFVpH6P"
      },
      "execution_count": 31,
      "outputs": []
    },
    {
      "cell_type": "code",
      "source": [
        "pred_outputs"
      ],
      "metadata": {
        "id": "nzxYDteEswKp",
        "outputId": "8d58afe9-c4f1-4718-e691-13fd0d709c0d",
        "colab": {
          "base_uri": "https://localhost:8080/"
        }
      },
      "execution_count": 28,
      "outputs": [
        {
          "output_type": "execute_result",
          "data": {
            "text/plain": [
              "array([2, 6, 3, ..., 3, 5, 9])"
            ]
          },
          "metadata": {},
          "execution_count": 28
        }
      ]
    },
    {
      "cell_type": "code",
      "source": [
        ""
      ],
      "metadata": {
        "id": "wEulzrHosxWO",
        "outputId": "6ac9ad46-6d13-462a-cf46-de1ed308a9bb",
        "colab": {
          "base_uri": "https://localhost:8080/"
        }
      },
      "execution_count": 29,
      "outputs": [
        {
          "output_type": "execute_result",
          "data": {
            "text/plain": [
              "array([2, 6, 9, ..., 3, 9, 4])"
            ]
          },
          "metadata": {},
          "execution_count": 29
        }
      ]
    },
    {
      "cell_type": "code",
      "source": [
        ""
      ],
      "metadata": {
        "id": "eRJBFr-lszJs"
      },
      "execution_count": null,
      "outputs": []
    }
  ],
  "metadata": {
    "kernelspec": {
      "display_name": "Python 3",
      "language": "python",
      "name": "python3"
    },
    "language_info": {
      "codemirror_mode": {
        "name": "ipython",
        "version": 2
      },
      "file_extension": ".py",
      "mimetype": "text/x-python",
      "name": "python",
      "nbconvert_exporter": "python",
      "pygments_lexer": "ipython2",
      "version": "2.7.6"
    },
    "colab": {
      "name": "Data_analysis_and_results.ipynb",
      "provenance": [],
      "include_colab_link": true
    },
    "accelerator": "GPU"
  },
  "nbformat": 4,
  "nbformat_minor": 0
}